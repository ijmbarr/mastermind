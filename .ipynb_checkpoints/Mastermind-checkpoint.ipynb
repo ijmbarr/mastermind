{
 "cells": [
  {
   "cell_type": "markdown",
   "metadata": {},
   "source": [
    "[Mastermind](https://en.wikipedia.org/wiki/Mastermind_%28board_game%29) is a board game played in the following way: \n",
    "\n",
    "- One player creates a codeword, consisting of an ordered sequence of four coloured counter, where each counter can take one of six colours. The codeword can contain any colour in any position, making $6^{4} = 1296$ possible codewords.\n",
    "- A second player guesses the codeword.\n",
    "- After the guess, the second player receives feedback in the form of a score. The score consists of up to four black and white markers. Each black marker means that the guess has a counter of the same colour, and the same position as the codeword. A white counter means that guess has the same coloured counter, but in a different position to the code word. \n",
    "- If the second player didn't correctly guess the codeword, they make another guess.\n",
    "- The game ends when the second player correctly guesses the code word. The goal is to do this in the smallest number of guesses possible.\n",
    "\n",
    "It seems like a game ripe to be solved by a computer, and indeed it is. [Knuth proved](http://www.dcc.fc.up.pt/~sssousa/RM09101.pdf) that any game is can be solved in five guesses or less. \n",
    "\n",
    "Here, I'm going to implement a few different strategies for playing mastermind and compare them. "
   ]
  },
  {
   "cell_type": "code",
   "execution_count": 1,
   "metadata": {
    "collapsed": true
   },
   "outputs": [],
   "source": [
    "#first, let's set up some details of the problem\n",
    "from itertools import product\n",
    "\n",
    "NUMBER_OF_SYMBOLS = 6\n",
    "SYMBOLS = list(range(NUMBER_OF_SYMBOLS))\n",
    "PATTERN_LENGTH = 4\n",
    "ALL_POSSIBLE_VALUES = tuple(product(SYMBOLS, repeat=PATTERN_LENGTH))\n",
    "POSSIBLE_SCORES = [(i,j) for i in range(5) for j in range(5) \n",
    "                   if (i + j < 5) and not (i == 3 and j == 1)]"
   ]
  },
  {
   "cell_type": "markdown",
   "metadata": {},
   "source": [
    "In what follows we use the integers 0-5 to represent the six colours, and a 4-tuple of these to represent the codeword or a guess. \n",
    "\n",
    "With this in mind, we can write a function that scores a guess."
   ]
  },
  {
   "cell_type": "code",
   "execution_count": 2,
   "metadata": {
    "collapsed": false
   },
   "outputs": [],
   "source": [
    "#scoring\n",
    "from collections import defaultdict\n",
    "\n",
    "def score(guess, truth):\n",
    "    \"\"\"\n",
    "    Scoring for mastermind.\n",
    "    \n",
    "    Returns a 2-tuple.\n",
    "    The first element is the number of symbols with the same\n",
    "    value, and in the same position in  \"guess\" and \"truth\".\n",
    "    \n",
    "    The second is and the number of similar symbols, but with \n",
    "    different positions between \"guess\" and \"truth\", ignoring those\n",
    "    counted in the first element.\n",
    "    \"\"\"\n",
    "    assert(len(guess) == len(truth))\n",
    "    \n",
    "    in_order = 0\n",
    "    out_of_order = 0\n",
    "    truth_ooo = defaultdict(int)\n",
    "    guess_ooo = defaultdict(int)\n",
    "    \n",
    "    #check in order positions\n",
    "    for g,t in zip(guess, truth):\n",
    "        if g == t:\n",
    "            in_order += 1\n",
    "        else:\n",
    "            truth_ooo[t] += 1\n",
    "            guess_ooo[g] += 1\n",
    "            \n",
    "    #check out of order positions        \n",
    "    for k in guess_ooo.keys():\n",
    "        out_of_order += min(guess_ooo[k], truth_ooo[k])\n",
    "        \n",
    "    return (in_order, out_of_order)"
   ]
  },
  {
   "cell_type": "markdown",
   "metadata": {},
   "source": [
    "Once we have that, we can also define a function update_possible, which takes a list of possible codewords, a guess and the guesses score, and returns only those values which are consistent with the guess and score."
   ]
  },
  {
   "cell_type": "code",
   "execution_count": 3,
   "metadata": {
    "collapsed": true
   },
   "outputs": [],
   "source": [
    "def update_possible(possible_values, guess, guess_score):\n",
    "    \"\"\"\n",
    "    Returns the subset of possible_values the give guess_score\n",
    "    in response to guess.\n",
    "    \"\"\"\n",
    "    return tuple(value for value in possible_values\n",
    "            if score(guess, value) == guess_score)"
   ]
  },
  {
   "cell_type": "markdown",
   "metadata": {},
   "source": [
    "Our solvers are going to take the form of a function that takes a list of possible codewords, and the guess number we're on, and returns a guess. \n",
    "\n",
    "To test how good each of these solvers are, we are going to simulate them playing the game with the following functions"
   ]
  },
  {
   "cell_type": "code",
   "execution_count": 27,
   "metadata": {
    "collapsed": false
   },
   "outputs": [
    {
     "name": "stderr",
     "output_type": "stream",
     "text": [
      "/home/ijmbarr/Documents/DATA/Kaggle/telstra/venv/lib/python3.4/site-packages/matplotlib/__init__.py:872: UserWarning: axes.color_cycle is deprecated and replaced with axes.prop_cycle; please use the latter.\n",
      "  warnings.warn(self.msg_depr % (key, alt_key))\n"
     ]
    }
   ],
   "source": [
    "import time\n",
    "import matplotlib.pyplot as plt\n",
    "%matplotlib inline\n",
    "import matplotlib as mpl\n",
    "mpl.style.use(\"ggplot\")\n",
    "\n",
    "import seaborn as sns\n",
    "\n",
    "\n",
    "def run_solver(solver, initial_possible_values, true_value,\n",
    "               guess_limit=12, printit=False):\n",
    "    \"\"\"\n",
    "    Repeatedly applies solver to valid_values until either limit\n",
    "    is reach, or a single answer has been found. Returns the\n",
    "    number of guesses required, or -1 if guess_limit is exceeded.\n",
    "    \"\"\"\n",
    "    number_of_guesses = 0\n",
    "    valid_values = initial_possible_values[:]\n",
    "    t = time.time()\n",
    "    \n",
    "    while(number_of_guesses <= guess_limit):\n",
    "        number_of_guesses += 1\n",
    "        current_guess = solver(valid_values, number_of_guesses)\n",
    "        current_score = score(current_guess, true_value)\n",
    "        valid_values = update_possible(valid_values, current_guess, current_score)\n",
    "        \n",
    "        if printit:\n",
    "            print(\"Guess {0}, {1}\".format(number_of_guesses, current_guess))\n",
    "            print(\"\\tScore:{0}, number of valid values remaining: {1}, time taken: {2:.4f}\"\n",
    "                  .format(current_score, len(valid_values), time.time() - t))\n",
    "        t = time.time()\n",
    "               \n",
    "        #check for success\n",
    "        if current_score[0] == PATTERN_LENGTH:\n",
    "            if printit:\n",
    "                print(\"Success!\")\n",
    "            return number_of_guesses\n",
    "        \n",
    "    return -1\n",
    "\n",
    "def evaluate_solver(solver, initial_possible_values, possible_truth_values,\n",
    "                    printit=False):\n",
    "    \"\"\"\n",
    "    Applies solver to each possible_truth_value, returning an list of \n",
    "    how many guesses it takes for each to solve.\n",
    "    \"\"\"\n",
    "    t = time.time()\n",
    "    time_record = []\n",
    "    guess_record = []\n",
    "    \n",
    "    for truth in possible_truth_values:\n",
    "        guess_record.append(run_solver(solver, initial_possible_values, truth))\n",
    "        time_record.append(time.time()-t)\n",
    "        t = time.time()\n",
    "        \n",
    "    if printit:\n",
    "        not_exceeded_limit = [g for g in guess_record if g > -1]\n",
    "        N = len(possible_truth_values)\n",
    "        print(solver.__name__)\n",
    "        print(\"----------\")\n",
    "        print(\"Average number of guesses: {0:.4f}\".format(sum(not_exceeded_limit) \n",
    "                                                          / len(not_exceeded_limit)))\n",
    "        print(\"Max number of guesses: {0}\".format(max(not_exceeded_limit)))\n",
    "        print(\"Number of guess limits exceeded: {0}\".format(N - len(not_exceeded_limit)))\n",
    "        print(\"Average time taken per run: {0:.4f}\".format(sum(time_record)/N))\n",
    "        plt.hist(not_exceeded_limit, bins=range(1,13))\n",
    "        plt.xticks([x+0.5 for x in range(1,13)], range(1,13))\n",
    "        plt.xlim(1,13)\n",
    "        plt.title(\"Distribution of number of guesses required to find the codeword\")\n",
    "        \n",
    "    return guess_record              "
   ]
  },
  {
   "cell_type": "markdown",
   "metadata": {},
   "source": [
    "## Solvers that Guess\n",
    "\n",
    "We can now implement the simplest solver I can think of: one that just chooses a guess at random from the available consistent values."
   ]
  },
  {
   "cell_type": "code",
   "execution_count": 41,
   "metadata": {
    "collapsed": true
   },
   "outputs": [],
   "source": [
    "import random\n",
    "\n",
    "def random_consistant_solver(possible_values, number_of_guesses):\n",
    "    \"\"\"\n",
    "    Guesses a random Value from possible_values\n",
    "    \"\"\"\n",
    "    return random.choice(possible_values)"
   ]
  },
  {
   "cell_type": "code",
   "execution_count": 42,
   "metadata": {
    "collapsed": false,
    "scrolled": true
   },
   "outputs": [
    {
     "name": "stdout",
     "output_type": "stream",
     "text": [
      "random_consistant_solver\n",
      "----------\n",
      "Average number of guesses: 4.6119\n",
      "Max number of guesses: 7\n",
      "Number of guess limits exceeded: 0\n",
      "Average time taken per run: 0.0067\n"
     ]
    },
    {
     "data": {
      "image/png": "[encoded data removed]",
      "text/plain": [
       "<matplotlib.figure.Figure at 0x7f52fcd0bba8>"
      ]
     },
     "metadata": {},
     "output_type": "display_data"
    }
   ],
   "source": [
    "evaluate_solver(random_consistant_solver, ALL_POSSIBLE_VALUES, \n",
    "                ALL_POSSIBLE_VALUES, printit=True);"
   ]
  },
  {
   "cell_type": "markdown",
   "metadata": {},
   "source": [
    "## Looking one move ahead\n",
    "\n",
    "The random guessing solver isn't bad. It's pretty close to how I would play the game.\n",
    "\n",
    "But is there a better way? Intuition tells me that rather than guessing a consistent value at random, we might do better by choosing the value which reduces the number of possible values the most. If we knew the true value, this would be trivial: we just guess the true value and our number of possible values is reduced to one. But we don't, so we have to consider the effect of our guess on all possible values.\n",
    "\n",
    "There are two ways of doing this. The first is to guess the value that returns the greatest reduction, when averaged across all possible values (I'll call this \"best_expected_solver\"). Another way is to guess the value that returns the greatest reduction, in the worst possible case, when averaged across the possible values (I'll call this \"best_worst_case_solver\").\n",
    "\n",
    "Carrying out these calculations isn't easy though. Updating our possible values given a guess is $O(N)$, for $N$ possible values. Averaging over all possible values for a given guess is then $O(N^{2})$, and minimising over all possible guesses is $O(N^{3})$. And this is only to calculate one guess. \n",
    "\n",
    "This complexity is most apparent on the first guess of the game, when the set of possible values is largest. However, we can reduce it using the fact that we are assuming the true value is drawn uniformly from all possible values. A first guess like (1,1,1,1) gives us as much information about the true value as a first guess like (0,0,0,0) when averaged across all possible values. The same is true of the two guesses (1,0,0,0) and (0,1,0,0). This is a reflection of the fact that the problem doesn't change if we re-label the symbols or if we permute the order of the symbols.\n",
    "\n",
    "Because of this there are only really five guesses worth starting with:"
   ]
  },
  {
   "cell_type": "code",
   "execution_count": 30,
   "metadata": {
    "collapsed": true
   },
   "outputs": [],
   "source": [
    "STARTING_GUESSES = [(0,0,0,0), (1,0,0,0), (1,1,0,0), (1,2,0,0), (0,1,2,3)]"
   ]
  },
  {
   "cell_type": "markdown",
   "metadata": {},
   "source": [
    "A further optimization we can make is for best_worst_case_solver. Because we are only looking for the worst case for each guess, rather than averaging over all possible values, we can average over all possible hints. There are only 15 possible hints (hint (3,1) is not possible)."
   ]
  },
  {
   "cell_type": "code",
   "execution_count": 31,
   "metadata": {
    "collapsed": true
   },
   "outputs": [],
   "source": [
    "def best_expected_solver(possible_values, number_of_guesses):\n",
    "    \"\"\"\n",
    "    Returns the guess which reduces the number of possible values\n",
    "    the most, when averaged across all possible_values.\n",
    "    \"\"\"\n",
    "    best_guess = possible_values[0]\n",
    "    best_score = 10**6\n",
    "    \n",
    "    if number_of_guesses == 1:\n",
    "        possible_guess_values = STARTING_GUESSES\n",
    "    else:\n",
    "        possible_guess_values = possible_values\n",
    "    \n",
    "    for guess in possible_guess_values:\n",
    "        remaining_lengths = []\n",
    "        for possible_truth in possible_values:\n",
    "            inner_score = score(guess, possible_truth)\n",
    "            updated_possible_values = update_possible(possible_values, guess, inner_score)\n",
    "            remaining_lengths.append(len(updated_possible_values))\n",
    "            \n",
    "        guess_score = sum(remaining_lengths) / len(remaining_lengths)\n",
    "        if guess_score < best_score:\n",
    "            best_score = guess_score\n",
    "            best_guess = guess\n",
    "            \n",
    "    return best_guess\n",
    "\n",
    "def best_worst_case_solver(possible_values, number_of_guesses):\n",
    "    \"\"\"\n",
    "    Returns the guess which reduces the number of possible values\n",
    "    the most, when considering the worst guess in possible_values.\n",
    "    \"\"\"\n",
    "    best_guess = possible_values[0]\n",
    "    best_score = 10**6\n",
    "   \n",
    "    if number_of_guesses == 1:\n",
    "        possible_guess_values = STARTING_GUESSES\n",
    "    else:\n",
    "        possible_guess_values = possible_values\n",
    "    \n",
    "    for guess in possible_guess_values:\n",
    "        remaining_lengths = []\n",
    "        for inner_score in POSSIBLE_SCORES:\n",
    "            updated_possible_values = update_possible(possible_values, guess, inner_score)\n",
    "            if len(updated_possible_values) > 0:\n",
    "                remaining_lengths.append(len(updated_possible_values))\n",
    "            \n",
    "        guess_score = max(remaining_lengths)\n",
    "        if guess_score < best_score:\n",
    "            best_score = guess_score\n",
    "            best_guess = guess\n",
    "            \n",
    "    return best_guess"
   ]
  },
  {
   "cell_type": "markdown",
   "metadata": {},
   "source": [
    "Let's test them both."
   ]
  },
  {
   "cell_type": "code",
   "execution_count": 32,
   "metadata": {
    "collapsed": false,
    "scrolled": true
   },
   "outputs": [
    {
     "name": "stdout",
     "output_type": "stream",
     "text": [
      "Codeword is: (0, 5, 5, 1)\n",
      "\n",
      "Guess 1, (1, 2, 0, 0)\n",
      "\tScore:(0, 2), number of valid values remaining: 222, time taken: 32.5025\n",
      "Guess 2, (2, 1, 3, 4)\n",
      "\tScore:(0, 1), number of valid values remaining: 14, time taken: 44.1188\n",
      "Guess 3, (0, 5, 1, 5)\n",
      "\tScore:(2, 2), number of valid values remaining: 2, time taken: 0.0111\n",
      "Guess 4, (0, 5, 5, 1)\n",
      "\tScore:(4, 0), number of valid values remaining: 1, time taken: 0.0001\n",
      "Success!\n"
     ]
    }
   ],
   "source": [
    "truth = random.choice(ALL_POSSIBLE_VALUES)\n",
    "print(\"Codeword is: {}\\n\".format(truth))\n",
    "run_solver(best_expected_solver, ALL_POSSIBLE_VALUES, truth , printit=True);"
   ]
  },
  {
   "cell_type": "code",
   "execution_count": 33,
   "metadata": {
    "collapsed": false,
    "scrolled": true
   },
   "outputs": [
    {
     "name": "stdout",
     "output_type": "stream",
     "text": [
      "Codeword is: (2, 1, 0, 5)\n",
      "\n",
      "Guess 1, (1, 1, 0, 0)\n",
      "\tScore:(2, 0), number of valid values remaining: 114, time taken: 0.3411\n",
      "Guess 2, (1, 1, 2, 3)\n",
      "\tScore:(1, 1), number of valid values remaining: 28, time taken: 0.6659\n",
      "Guess 3, (1, 2, 4, 0)\n",
      "\tScore:(0, 3), number of valid values remaining: 4, time taken: 0.0436\n",
      "Guess 4, (2, 1, 0, 5)\n",
      "\tScore:(4, 0), number of valid values remaining: 1, time taken: 0.0008\n",
      "Success!\n"
     ]
    }
   ],
   "source": [
    "truth = random.choice(ALL_POSSIBLE_VALUES)\n",
    "print(\"Codeword is: {}\\n\".format(truth))\n",
    "run_solver(best_worst_case_solver, ALL_POSSIBLE_VALUES, truth, printit=True);"
   ]
  },
  {
   "cell_type": "markdown",
   "metadata": {},
   "source": [
    "The functions are taking long enough that testing them over all possible values will take too long to test easily. However, since each function is deterministic, we can memorize the outputs and avoid some unnecessary computations."
   ]
  },
  {
   "cell_type": "code",
   "execution_count": 34,
   "metadata": {
    "collapsed": true
   },
   "outputs": [],
   "source": [
    "class Memorize:\n",
    "    \"\"\"\n",
    "    A class to memorize the output of a function, based only on the first argument.\n",
    "    \"\"\"\n",
    "    \n",
    "    def __init__(self, func):\n",
    "        self.memory = {}\n",
    "        self.func = func\n",
    "        self.__name__ = func.__name__ + \"_memorized\"\n",
    "        \n",
    "    def __call__(self, *input_values):\n",
    "        if input_values[0] in self.memory:\n",
    "            return self.memory[input_values[0]]\n",
    "        result = self.func(*input_values)\n",
    "        self.memory[input_values[0]] = result\n",
    "        return result\n",
    "\n",
    "    def get_memory(self):\n",
    "        return self.memory\n",
    "\n",
    "best_expected_solver_memorized = Memorize(best_expected_solver)\n",
    "best_worst_case_solver_memorized = Memorize(best_worst_case_solver)"
   ]
  },
  {
   "cell_type": "markdown",
   "metadata": {},
   "source": [
    "We can now test them over all possible inputs"
   ]
  },
  {
   "cell_type": "code",
   "execution_count": 35,
   "metadata": {
    "collapsed": false
   },
   "outputs": [
    {
     "name": "stdout",
     "output_type": "stream",
     "text": [
      "best_expected_solver_memorized\n",
      "----------\n",
      "Average number of guesses: 4.4144\n",
      "Max number of guesses: 6\n",
      "Number of guess limits exceeded: 0\n",
      "Average time taken per run: 0.2001\n",
      "CPU times: user 4min 19s, sys: 88 ms, total: 4min 19s\n",
      "Wall time: 4min 19s\n"
     ]
    },
    {
     "data": {
      "image/png": "[encoded data removed]",
      "text/plain": [
       "<matplotlib.figure.Figure at 0x7f52de936550>"
      ]
     },
     "metadata": {},
     "output_type": "display_data"
    }
   ],
   "source": [
    "%time scores = evaluate_solver(best_expected_solver_memorized, \\\n",
    "                               ALL_POSSIBLE_VALUES, ALL_POSSIBLE_VALUES, printit=True);"
   ]
  },
  {
   "cell_type": "code",
   "execution_count": 36,
   "metadata": {
    "collapsed": false
   },
   "outputs": [
    {
     "name": "stdout",
     "output_type": "stream",
     "text": [
      "best_worst_case_solver_memorized\n",
      "----------\n",
      "Average number of guesses: 4.5000\n",
      "Max number of guesses: 6\n",
      "Number of guess limits exceeded: 0\n",
      "Average time taken per run: 0.0191\n",
      "CPU times: user 24.8 s, sys: 0 ns, total: 24.8 s\n",
      "Wall time: 24.8 s\n"
     ]
    },
    {
     "data": {
      "image/png": "[encoded data removed]",
      "text/plain": [
       "<matplotlib.figure.Figure at 0x7f52de612828>"
      ]
     },
     "metadata": {},
     "output_type": "display_data"
    }
   ],
   "source": [
    "%time scores = evaluate_solver(best_worst_case_solver_memorized, \\\n",
    "                               ALL_POSSIBLE_VALUES, ALL_POSSIBLE_VALUES, printit=True);"
   ]
  },
  {
   "cell_type": "markdown",
   "metadata": {
    "collapsed": true
   },
   "source": [
    "Unsuprisingly, best_expected_solver beats the others on average, and best_worst_case_solver reduces the number of guesses required. But if you remember back to the start, I said that it was possible to solve the game in five moves or fewer. \n",
    "\n",
    "The difference lies in what guesses the solver can make. Consider the following game:"
   ]
  },
  {
   "cell_type": "code",
   "execution_count": 37,
   "metadata": {
    "collapsed": false
   },
   "outputs": [
    {
     "name": "stdout",
     "output_type": "stream",
     "text": [
      "Codeword is: (1, 5, 0, 0)\n",
      "\n",
      "Guess 1, (1, 1, 0, 0)\n",
      "\tScore:(3, 0), number of valid values remaining: 20, time taken: 0.0053\n",
      "Guess 2, (1, 1, 0, 2)\n",
      "\tScore:(2, 0), number of valid values remaining: 8, time taken: 0.0001\n",
      "Guess 3, (0, 1, 0, 0)\n",
      "\tScore:(2, 1), number of valid values remaining: 3, time taken: 0.0000\n",
      "Guess 4, (1, 3, 0, 0)\n",
      "\tScore:(3, 0), number of valid values remaining: 2, time taken: 0.0000\n",
      "Guess 5, (1, 4, 0, 0)\n",
      "\tScore:(3, 0), number of valid values remaining: 1, time taken: 0.0000\n",
      "Guess 6, (1, 5, 0, 0)\n",
      "\tScore:(4, 0), number of valid values remaining: 1, time taken: 0.0000\n",
      "Success!\n"
     ]
    }
   ],
   "source": [
    "truth = (1, 5, 0, 0)\n",
    "print(\"Codeword is: {}\\n\".format(truth))\n",
    "run_solver(best_worst_case_solver_memorized, ALL_POSSIBLE_VALUES, truth, printit=True);"
   ]
  },
  {
   "cell_type": "markdown",
   "metadata": {},
   "source": [
    "After the first guess, we have 20 remaining possible_values. Guessing (1,1,0,2) will reduce this to eight, but if we guess (0,1,0,2), we reduce this to five possible values. However, (0,1,0,2) isn't actually in  the set of possible values after our first guess. "
   ]
  },
  {
   "cell_type": "markdown",
   "metadata": {},
   "source": [
    "## Knuth's solution\n",
    "\n",
    "As noted in Knuth’s paper, situations can arise where guessing a value that could win on the next go is not always the best strategy. To incorporate this change, we can replace the loop in the previous solution over all remaining possible_values with one over ALL_POSSIBLE_VALUES."
   ]
  },
  {
   "cell_type": "code",
   "execution_count": 38,
   "metadata": {
    "collapsed": false
   },
   "outputs": [],
   "source": [
    "def tie_breaker_lowest(guess1, guess2):\n",
    "    \"\"\"\n",
    "    Returns True if guess1 is numberically lower than guess2,\n",
    "    false if higher or identical.\n",
    "    \"\"\"\n",
    "    for x,y in zip(guess1, guess2):\n",
    "        if x < y:\n",
    "            return True\n",
    "        elif x > y:\n",
    "            return False\n",
    "    return False\n",
    "\n",
    "def knuth_solver(possible_values, number_of_guesses, \n",
    "                 tie_breaker=tie_breaker_lowest):\n",
    "    \"\"\"\n",
    "    A solver based on Knuth's paper. \n",
    "    \"\"\"\n",
    "    best_guess = possible_values[0]\n",
    "    best_score = 10**6\n",
    "      \n",
    "    if number_of_guesses == 1:\n",
    "        possible_guess_values = STARTING_GUESSES\n",
    "    else:\n",
    "        possible_guess_values = ALL_POSSIBLE_VALUES\n",
    "    \n",
    "    possible_guess_set = set(possible_values)\n",
    "    \n",
    "    for guess in possible_guess_values:\n",
    "        remaining_lengths = []\n",
    "        for inner_score in POSSIBLE_SCORES:\n",
    "            updated_possible_values = update_possible(possible_values, guess, inner_score)\n",
    "            remaining_lengths.append(len(updated_possible_values))\n",
    "            \n",
    "        guess_score = max(remaining_lengths)\n",
    "\n",
    "        if guess_score < best_score:\n",
    "            best_score = guess_score\n",
    "            best_guess = guess\n",
    "        # in case of ties, always pick a guess in possibe_values\n",
    "        # if both guesses are in possible_values, use the function\n",
    "        # tie_breaker.\n",
    "        elif guess_score == best_score:\n",
    "            if guess in possible_guess_set and best_guess in possible_guess_set:\n",
    "                if tie_breaker(guess, best_guess):\n",
    "                    best_score = guess_score\n",
    "                    best_guess = guess\n",
    "            elif guess in possible_guess_set:\n",
    "                best_score = guess_score\n",
    "                best_guess = guess\n",
    "            \n",
    "    return best_guess\n",
    "\n",
    "knuth_solver_memorized = Memorize(knuth_solver)"
   ]
  },
  {
   "cell_type": "code",
   "execution_count": 39,
   "metadata": {
    "collapsed": false
   },
   "outputs": [
    {
     "name": "stdout",
     "output_type": "stream",
     "text": [
      "knuth_solver_memorized\n",
      "----------\n",
      "Average number of guesses: 4.4738\n",
      "Max number of guesses: 5\n",
      "Number of guess limits exceeded: 0\n",
      "Average time taken per run: 0.2991\n",
      "CPU times: user 6min 27s, sys: 32 ms, total: 6min 27s\n",
      "Wall time: 6min 27s\n"
     ]
    },
    {
     "data": {
      "image/png": "[encoded data removed]",
      "text/plain": [
       "<matplotlib.figure.Figure at 0x7f52fcd0b9e8>"
      ]
     },
     "metadata": {},
     "output_type": "display_data"
    }
   ],
   "source": [
    "%time scores = evaluate_solver(knuth_solver_memorized, \\\n",
    "                               ALL_POSSIBLE_VALUES, ALL_POSSIBLE_VALUES, printit=True);"
   ]
  },
  {
   "cell_type": "markdown",
   "metadata": {
    "collapsed": true
   },
   "source": [
    "And we recover the results from Knuth's paper - a strategy that can always find the solution in five moves or less.\n",
    "\n",
    "I noticed something interesting when writing this solver: the order in which you resolve ties makes a difference. When two possible guesses result in the same worst case length of possible solution, we choose the one that lies in possible_values. When both guesses lie in possible_values, Knuth chooses the one with the lowest numerical value. If you happen to choose the one with the highest value, you can't always solve the problem in five or fewer moves, as shown below:\n"
   ]
  },
  {
   "cell_type": "code",
   "execution_count": 40,
   "metadata": {
    "collapsed": false
   },
   "outputs": [
    {
     "name": "stdout",
     "output_type": "stream",
     "text": [
      "<lambda>_memorized\n",
      "----------\n",
      "Average number of guesses: 4.4745\n",
      "Max number of guesses: 6\n",
      "Number of guess limits exceeded: 0\n",
      "Average time taken per run: 0.3076\n",
      "CPU times: user 6min 38s, sys: 44 ms, total: 6min 38s\n",
      "Wall time: 6min 38s\n"
     ]
    },
    {
     "data": {
      "image/png": "[encoded data removed]",
      "text/plain": [
       "<matplotlib.figure.Figure at 0x7f52ed24f860>"
      ]
     },
     "metadata": {},
     "output_type": "display_data"
    }
   ],
   "source": [
    "def tie_breaker_highest(guess1, guess2):\n",
    "    \"\"\"\n",
    "    Returns True if guess1 is numberically Higher than guess2,\n",
    "    False if lower or identical.\n",
    "    \"\"\"\n",
    "    for x,y in zip(guess1, guess2):\n",
    "        if x > y:\n",
    "            return True\n",
    "        elif x < y:\n",
    "            return False\n",
    "    return False    \n",
    "\n",
    "knuth_solver_memorized2 = Memorize(lambda i,j : knuth_solver(i,j, tie_breaker = tie_breaker_highest))\n",
    "\n",
    "%time scores = evaluate_solver(knuth_solver_memorized2, \\\n",
    "                               ALL_POSSIBLE_VALUES, ALL_POSSIBLE_VALUES, printit=True);"
   ]
  },
  {
   "cell_type": "markdown",
   "metadata": {
    "collapsed": true
   },
   "source": [
    "# This Post\n",
    "\n",
    "This post was written as an ipython notebook that can be found [here](https://github.com/ijmbarr/mastermind)."
   ]
  }
 ],
 "metadata": {
  "kernelspec": {
   "display_name": "Python 3",
   "language": "python",
   "name": "python3"
  },
  "language_info": {
   "codemirror_mode": {
    "name": "ipython",
    "version": 3
   },
   "file_extension": ".py",
   "mimetype": "text/x-python",
   "name": "python",
   "nbconvert_exporter": "python",
   "pygments_lexer": "ipython3",
   "version": "3.4.3"
  }
 },
 "nbformat": 4,
 "nbformat_minor": 0
}
