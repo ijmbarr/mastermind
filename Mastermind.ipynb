{
 "cells": [
  {
   "cell_type": "markdown",
   "metadata": {},
   "source": [
    "# Mastermind\n",
    "\n",
    "[Mastermind](https://en.wikipedia.org/wiki/Mastermind_%28board_game%29) is a board game played in the following way: \n",
    "\n",
    "- One player creates a codeword, consisting of an ordered sequence of four coloured counter, where each counter can take one of six colours. The codeword can contain any colour in any position, making there $6^{4} = 1296$ possible codewords.\n",
    "- A second player tried to guess the codeword by successively guessing the codeword.\n",
    "- After each guess, the second player receives feedback in the form of a score. The score consists of up to four black and white markers. Each black marker means that the guess has a counter of the same colour, and the same position as the codeword. A white counter means that guess has the same coloured counter, but in a different position to the code word. (If this is confusing, don't worry, we will make it definate later)\n",
    "- The game ends when the second player correctly guesses the code word. The goal is to do this in the smallest number of guesses possible.\n",
    "\n",
    "It seems like a game ripe to be solved by a computer, and indeed it is. [Knuth proved](http://www.dcc.fc.up.pt/~sssousa/RM09101.pdf) that any game is can be solved in five guesses or less. \n",
    "\n",
    "Here, I'm going to impliment a few different solutions to the game and compare them. "
   ]
  },
  {
   "cell_type": "code",
   "execution_count": 1,
   "metadata": {
    "collapsed": true
   },
   "outputs": [],
   "source": [
    "#first, let's set up some details of the problem\n",
    "from itertools import product\n",
    "\n",
    "NUMBER_OF_SYMBOLS = 6\n",
    "SYMBOLS = list(range(NUMBER_OF_SYMBOLS))\n",
    "PATTERN_LENGTH = 4\n",
    "ALL_POSSIBLE_VALUES = tuple(product(SYMBOLS, repeat=PATTERN_LENGTH))\n",
    "POSSIBLE_SCORES = [(i,j) for i in range(5) for j in range(5) \n",
    "                   if (i + j < 5) and not (i == 3 and j == 1)]"
   ]
  },
  {
   "cell_type": "markdown",
   "metadata": {},
   "source": [
    "In what follows we use the integers 0-5 to represent the six colours, and a 4-tuple of these to represent the codeword or a guess. With this in mind, we can write a function that scores a guess."
   ]
  },
  {
   "cell_type": "code",
   "execution_count": 2,
   "metadata": {
    "collapsed": false
   },
   "outputs": [],
   "source": [
    "#scoring\n",
    "from collections import defaultdict\n",
    "\n",
    "def score(guess, truth):\n",
    "    \"\"\"\n",
    "    Scoring for mastermind.\n",
    "    \n",
    "    Returns a 2-tuple.\n",
    "    The first element is the number of symbols with the same\n",
    "    value, and in the same position in  \"guess\" and \"truth\".\n",
    "    \n",
    "    The second is and the number of similar symbols, but with \n",
    "    different positions between \"guess\" and \"truth\", ignoring those\n",
    "    counted in the first element.\n",
    "    \"\"\"\n",
    "    assert(len(guess) == len(truth))\n",
    "    \n",
    "    in_order = 0\n",
    "    out_of_order = 0\n",
    "    truth_ooo = defaultdict(int)\n",
    "    guess_ooo = defaultdict(int)\n",
    "    \n",
    "    #check in order positions\n",
    "    for g,t in zip(guess, truth):\n",
    "        if g == t:\n",
    "            in_order += 1\n",
    "        else:\n",
    "            truth_ooo[t] += 1\n",
    "            guess_ooo[g] += 1\n",
    "            \n",
    "    #check out of order positions        \n",
    "    for k in guess_ooo.keys():\n",
    "        out_of_order += min(guess_ooo[k], truth_ooo[k])\n",
    "        \n",
    "    return (in_order, out_of_order)"
   ]
  },
  {
   "cell_type": "markdown",
   "metadata": {},
   "source": [
    "Once we have that, we can also define a function update_possible, which takes a list of possible codewords, a guess and the guess's score, and returns only those values which are consistant with the guess and score."
   ]
  },
  {
   "cell_type": "code",
   "execution_count": 3,
   "metadata": {
    "collapsed": true
   },
   "outputs": [],
   "source": [
    "def update_possible(possible_values, guess, guess_score):\n",
    "    \"\"\"\n",
    "    Returns the subset of possible_values the give guess_score\n",
    "    in response to guess.\n",
    "    \"\"\"\n",
    "    return tuple(value for value in possible_values\n",
    "            if score(guess, value) == guess_score)"
   ]
  },
  {
   "cell_type": "markdown",
   "metadata": {},
   "source": [
    "Our solvers are going to take the form of a function that takes a list of possible codewords, and the guess number we're on, and returns a guess. \n",
    "\n",
    "To test how good each of these solvers are, we are going to use the following functions"
   ]
  },
  {
   "cell_type": "code",
   "execution_count": 4,
   "metadata": {
    "collapsed": false
   },
   "outputs": [],
   "source": [
    "import time\n",
    "import matplotlib.pyplot as plt\n",
    "%matplotlib inline\n",
    "import matplotlib as mpl\n",
    "mpl.style.use(\"ggplot\")\n",
    "\n",
    "\n",
    "def run_solver(solver, initial_possible_values, true_value,\n",
    "               guess_limit=12, printit=False):\n",
    "    \"\"\"\n",
    "    Repeatedly applies solver to valid_values until either limit\n",
    "    is reach, or a single answer has been found. Returns the\n",
    "    number of guesses required, or -1 if guess_limit is exceeded.\n",
    "    \"\"\"\n",
    "    number_of_guesses = 0\n",
    "    valid_values = initial_possible_values[:]\n",
    "    t = time.time()\n",
    "    \n",
    "    while(number_of_guesses <= guess_limit):\n",
    "        number_of_guesses += 1\n",
    "        current_guess = solver(valid_values, number_of_guesses)\n",
    "        current_score = score(current_guess, true_value)\n",
    "        valid_values = update_possible(valid_values, current_guess, current_score)\n",
    "        \n",
    "        if printit:\n",
    "            print(\"Guess {0}, {1}\".format(number_of_guesses, current_guess))\n",
    "            print(\"\\tScore:{0}, number of valid values remaining: {1}, time taken: {2:.4f}\"\n",
    "                  .format(current_score, len(valid_values), time.time() - t))\n",
    "        t = time.time()\n",
    "               \n",
    "        #check for success\n",
    "        if current_score[0] == PATTERN_LENGTH:\n",
    "            if printit:\n",
    "                print(\"Success!\")\n",
    "            return number_of_guesses\n",
    "        \n",
    "    return -1\n",
    "\n",
    "def evaluate_solver(solver, initial_possible_values, possible_truth_values,\n",
    "                    printit=False):\n",
    "    \"\"\"\n",
    "    Applies solver to each possible_truth_value, returning an list of \n",
    "    how many guesses it takes for each to solve.\n",
    "    \"\"\"\n",
    "    t = time.time()\n",
    "    time_record = []\n",
    "    guess_record = []\n",
    "    \n",
    "    for truth in possible_truth_values:\n",
    "        guess_record.append(run_solver(solver, initial_possible_values, truth))\n",
    "        time_record.append(time.time()-t)\n",
    "        t = time.time()\n",
    "        \n",
    "    if printit:\n",
    "        not_exceeded_limit = [g for g in guess_record if g > -1]\n",
    "        N = len(possible_truth_values)\n",
    "        print(solver.__name__)\n",
    "        print(\"----------\")\n",
    "        print(\"Average number of guesses: {0:.4f}\".format(sum(not_exceeded_limit) \n",
    "                                                          / len(not_exceeded_limit)))\n",
    "        print(\"Max number of guesses: {0}\".format(max(not_exceeded_limit)))\n",
    "        print(\"Number of guess limits exceeded: {0}\".format(N - len(not_exceeded_limit)))\n",
    "        print(\"Average time taken per run: {0:.4f}\".format(sum(time_record)/N))\n",
    "        plt.hist(not_exceeded_limit, bins=range(1,13))\n",
    "        plt.xticks([x+0.5 for x in range(1,13)], range(1,13))\n",
    "        plt.xlim(1,13)\n",
    "        \n",
    "    return guess_record              "
   ]
  },
  {
   "cell_type": "markdown",
   "metadata": {},
   "source": [
    "## Solvers that Guess\n",
    "\n",
    "We can now impliment the simplest solver I can think of, one that guesses a random value from the available consistant values."
   ]
  },
  {
   "cell_type": "code",
   "execution_count": 5,
   "metadata": {
    "collapsed": true
   },
   "outputs": [],
   "source": [
    "import random\n",
    "def random_consistant_solver(possible_values, number_of_guesses):\n",
    "    \"\"\"\n",
    "    Guesses a random Value from possible_values\n",
    "    \"\"\"\n",
    "    return random.choice(possible_values)"
   ]
  },
  {
   "cell_type": "code",
   "execution_count": 6,
   "metadata": {
    "collapsed": false,
    "scrolled": true
   },
   "outputs": [
    {
     "name": "stdout",
     "output_type": "stream",
     "text": [
      "random_consistant_solver\n",
      "----------\n",
      "Average number of guesses: 4.6551\n",
      "Max number of guesses: 7\n",
      "Number of guess limits exceeded: 0\n",
      "Average time taken per run: 0.0073\n"
     ]
    },
    {
     "data": {
      "image/png": "[encoded data removed]",
      "text/plain": [
       "<matplotlib.figure.Figure at 0x7f0e48923ef0>"
      ]
     },
     "metadata": {},
     "output_type": "display_data"
    }
   ],
   "source": [
    "evaluate_solver(random_consistant_solver, ALL_POSSIBLE_VALUES, \n",
    "                ALL_POSSIBLE_VALUES, printit=True);"
   ]
  },
  {
   "cell_type": "markdown",
   "metadata": {},
   "source": [
    "## Looking one move ahead\n",
    "\n",
    "The random guessing solver isn't bad. It's pretty close to how I would play the game.\n",
    "\n",
    "But is there a better way? Intuition tells me that rather than guessing a consistant value at random, we might do better by choosing the value which reduces the number of possible values the most. If we knew the true value, this would be trivial: we just guess the true value and our number of possible values is reduced to one. But we don't, so we have to use our currently known possible values to make a guess of the reduction.\n",
    "\n",
    "There are two ways of doing this. The first is to guess the value that returns the greatest reduction, when averaged across all possible values (I'll call this \"best_expected_solver\"). Another way is to guess the value that returns the greatest reduction, in the worst possible case, when averaged across the possible values (I'll call this \"best_worst_case_solver\").\n",
    "\n",
    "Carrying out these calculations isn't easy though. Updating our possible values given a guess is $O(N)$, for $N$ possible values. Averaging over all possible values for a given guess is then $O(N^{2})$, and minimising over all possible guesses is $O(N^{3})$. And this is only to calculate one guess. \n",
    "\n",
    "This complexity is most apparent on the first guess of the game, when the set of possible values is largest. However, we can reduce it using the fact that we are assuming the true value is drawn uniformly from all possible values. A first guess like (1,1,1,1) gives us as much information about the true value as a first guess like (0,0,0,0) when averaged across all possible values. The same is true of the two guesses (1,0,0,0) and (0,1,0,0). This is a reflection of the fact that the problem doesn't change if we re-label the symbols or if we permute the order of the symbols.\n",
    "\n",
    "Because of this there are only really five guesses worth starting with:"
   ]
  },
  {
   "cell_type": "code",
   "execution_count": 7,
   "metadata": {
    "collapsed": true
   },
   "outputs": [],
   "source": [
    "STARTING_GUESSES = [(0,0,0,0), (1,0,0,0), (1,1,0,0), (1,2,0,0), (0,1,2,3)]"
   ]
  },
  {
   "cell_type": "markdown",
   "metadata": {},
   "source": [
    "A further optimization we can make is for best_worst_case_solver. Because we are only looking for the worst case for each guess, rather than averaging over all possible values, we can average over all possible hints. There are only 15 possible hints (hint (3,1) is not possible)."
   ]
  },
  {
   "cell_type": "code",
   "execution_count": 8,
   "metadata": {
    "collapsed": true
   },
   "outputs": [],
   "source": [
    "def best_expected_solver(possible_values, number_of_guesses):\n",
    "    \"\"\"\n",
    "    Returns the guess which reduces the number of possible values\n",
    "    the most, when averaged across all possible_values.\n",
    "    \"\"\"\n",
    "    best_guess = possible_values[0]\n",
    "    best_score = 10**6\n",
    "    \n",
    "    if number_of_guesses == 1:\n",
    "        possible_guess_values = STARTING_GUESSES\n",
    "    else:\n",
    "        possible_guess_values = possible_values\n",
    "    \n",
    "    for guess in possible_guess_values:\n",
    "        remaining_lengths = []\n",
    "        for possible_truth in possible_values:\n",
    "            inner_score = score(guess, possible_truth)\n",
    "            updated_possible_values = update_possible(possible_values, guess, inner_score)\n",
    "            remaining_lengths.append(len(updated_possible_values))\n",
    "            \n",
    "        guess_score = sum(remaining_lengths) / len(remaining_lengths)\n",
    "        if guess_score < best_score:\n",
    "            best_score = guess_score\n",
    "            best_guess = guess\n",
    "            \n",
    "    return best_guess\n",
    "\n",
    "def best_worst_case_solver(possible_values, number_of_guesses):\n",
    "    \"\"\"\n",
    "    Returns the guess which reduces the number of possible values\n",
    "    the most, when considering the worst guess in possible_values.\n",
    "    \"\"\"\n",
    "    best_guess = possible_values[0]\n",
    "    best_score = 10**6\n",
    "   \n",
    "    if number_of_guesses == 1:\n",
    "        possible_guess_values = STARTING_GUESSES\n",
    "    else:\n",
    "        possible_guess_values = possible_values\n",
    "    \n",
    "    for guess in possible_guess_values:\n",
    "        remaining_lengths = []\n",
    "        for inner_score in POSSIBLE_SCORES:\n",
    "            updated_possible_values = update_possible(possible_values, guess, inner_score)\n",
    "            if len(updated_possible_values) > 0:\n",
    "                remaining_lengths.append(len(updated_possible_values))\n",
    "            \n",
    "        guess_score = max(remaining_lengths)\n",
    "        if guess_score < best_score:\n",
    "            best_score = guess_score\n",
    "            best_guess = guess\n",
    "            \n",
    "    return best_guess"
   ]
  },
  {
   "cell_type": "markdown",
   "metadata": {},
   "source": [
    "Let's test them both for one guess each"
   ]
  },
  {
   "cell_type": "code",
   "execution_count": 9,
   "metadata": {
    "collapsed": false,
    "scrolled": true
   },
   "outputs": [
    {
     "name": "stdout",
     "output_type": "stream",
     "text": [
      "Codeword is: (1, 1, 0, 5)\n",
      "\n",
      "Guess 1, (1, 2, 0, 0)\n",
      "\tScore:(2, 0), number of valid values remaining: 105, time taken: 39.3686\n",
      "Guess 2, (1, 3, 0, 4)\n",
      "\tScore:(2, 0), number of valid values remaining: 14, time taken: 5.2652\n",
      "Guess 3, (1, 2, 5, 4)\n",
      "\tScore:(1, 1), number of valid values remaining: 3, time taken: 0.0180\n",
      "Guess 4, (1, 1, 0, 5)\n",
      "\tScore:(4, 0), number of valid values remaining: 1, time taken: 0.0002\n",
      "Success!\n"
     ]
    }
   ],
   "source": [
    "truth = random.choice(ALL_POSSIBLE_VALUES)\n",
    "print(\"Codeword is: {}\\n\".format(truth))\n",
    "run_solver(best_expected_solver, ALL_POSSIBLE_VALUES, truth , printit=True);"
   ]
  },
  {
   "cell_type": "code",
   "execution_count": 10,
   "metadata": {
    "collapsed": false,
    "scrolled": true
   },
   "outputs": [
    {
     "name": "stdout",
     "output_type": "stream",
     "text": [
      "Codeword is: (0, 3, 0, 2)\n",
      "\n",
      "Guess 1, (1, 1, 0, 0)\n",
      "\tScore:(1, 1), number of valid values remaining: 208, time taken: 0.4014\n",
      "Guess 2, (0, 2, 0, 3)\n",
      "\tScore:(2, 2), number of valid values remaining: 3, time taken: 3.2663\n",
      "Guess 3, (0, 2, 3, 0)\n",
      "\tScore:(1, 3), number of valid values remaining: 1, time taken: 0.0006\n",
      "Guess 4, (0, 3, 0, 2)\n",
      "\tScore:(4, 0), number of valid values remaining: 1, time taken: 0.0001\n",
      "Success!\n"
     ]
    }
   ],
   "source": [
    "truth = random.choice(ALL_POSSIBLE_VALUES)\n",
    "print(\"Codeword is: {}\\n\".format(truth))\n",
    "run_solver(best_worst_case_solver, ALL_POSSIBLE_VALUES, truth, printit=True);"
   ]
  },
  {
   "cell_type": "markdown",
   "metadata": {},
   "source": [
    "The functions are taking long enough that testing them over all possible values will take too long to test easily. However, since each function is deterimistic, we can memorize the outputs and avoid some unnecessary computations."
   ]
  },
  {
   "cell_type": "code",
   "execution_count": 41,
   "metadata": {
    "collapsed": true
   },
   "outputs": [],
   "source": [
    "class Memorize:\n",
    "    \"\"\"\n",
    "    A class to memorize the output of a function, based only on the first argument.\n",
    "    \"\"\"\n",
    "    def __name__(self):\n",
    "        return self.name\n",
    "    \n",
    "    def __init__(self, func):\n",
    "        self.memory = {}\n",
    "        self.func = func\n",
    "        self.name = func.__name__ + \"_momorized\"\n",
    "        \n",
    "    def __call__(self, *input_values):\n",
    "        if input_values[0] in self.memory:\n",
    "            return self.memory[input_values[0]]\n",
    "        result = self.func(*input_values)\n",
    "        self.memory[input_values[0]] = result\n",
    "        return result\n",
    "\n",
    "    def get_memory(self):\n",
    "        return self.memory\n",
    "\n",
    "best_expected_solver_memorized = Memorize(best_expected_solver)\n",
    "best_worst_case_solver_memorized = Memorize(best_worst_case_solver)"
   ]
  },
  {
   "cell_type": "markdown",
   "metadata": {},
   "source": [
    "We can now test them over all possible inputs"
   ]
  },
  {
   "cell_type": "code",
   "execution_count": 42,
   "metadata": {
    "collapsed": false,
    "scrolled": true
   },
   "outputs": [
    {
     "name": "stdout",
     "output_type": "stream",
     "text": [
      "<bound method Memorize.__name__ of <__main__.Memorize object at 0x7f0e2e49fe10>>\n",
      "----------\n",
      "Average number of guesses: 4.4144\n",
      "Max number of guesses: 6\n",
      "Number of guess limits exceeded: 0\n",
      "Average time taken per run: 0.2309\n",
      "CPU times: user 4min 59s, sys: 7.97 ms, total: 4min 59s\n",
      "Wall time: 4min 59s\n"
     ]
    },
    {
     "data": {
      "image/png": "[encoded data removed]",
      "text/plain": [
       "<matplotlib.figure.Figure at 0x7f0e2e4a1470>"
      ]
     },
     "metadata": {},
     "output_type": "display_data"
    }
   ],
   "source": [
    "%time scores = evaluate_solver(best_expected_solver_memorized, \\\n",
    "                               ALL_POSSIBLE_VALUES, ALL_POSSIBLE_VALUES, printit=True);"
   ]
  },
  {
   "cell_type": "code",
   "execution_count": 43,
   "metadata": {
    "collapsed": false
   },
   "outputs": [
    {
     "name": "stdout",
     "output_type": "stream",
     "text": [
      "<bound method Memorize.__name__ of <__main__.Memorize object at 0x7f0e2e49feb8>>\n",
      "----------\n",
      "Average number of guesses: 4.5000\n",
      "Max number of guesses: 6\n",
      "Number of guess limits exceeded: 0\n",
      "Average time taken per run: 0.0223\n",
      "CPU times: user 29 s, sys: 20 ms, total: 29 s\n",
      "Wall time: 29 s\n"
     ]
    },
    {
     "data": {
      "image/png": "[encoded data removed]",
      "text/plain": [
       "<matplotlib.figure.Figure at 0x7f0e2e42d7f0>"
      ]
     },
     "metadata": {},
     "output_type": "display_data"
    }
   ],
   "source": [
    "%time scores = evaluate_solver(best_worst_case_solver_memorized, \\\n",
    "                               ALL_POSSIBLE_VALUES, ALL_POSSIBLE_VALUES, printit=True);"
   ]
  },
  {
   "cell_type": "markdown",
   "metadata": {
    "collapsed": true
   },
   "source": [
    "Unsuprisingly, best_expected_solver beats the others on average, and best_worst_case_solver reduces the number of guesses required. But if you remember back to the start, I said that it was possible to solve the game in five moves or fewer. \n",
    "\n",
    "The difference lies in what guesses the solver can make. Consider the following game:"
   ]
  },
  {
   "cell_type": "code",
   "execution_count": 33,
   "metadata": {
    "collapsed": false
   },
   "outputs": [
    {
     "name": "stdout",
     "output_type": "stream",
     "text": [
      "Codeword is: (2, 5, 2, 1)\n",
      "\n",
      "Guess 1, (1, 1, 0, 0)\n",
      "\tScore:(0, 1), number of valid values remaining: 256, time taken: 0.0069\n",
      "Guess 2, (0, 2, 3, 3)\n",
      "\tScore:(0, 1), number of valid values remaining: 44, time taken: 0.0013\n",
      "Guess 3, (2, 4, 1, 5)\n",
      "\tScore:(1, 2), number of valid values remaining: 7, time taken: 0.0002\n",
      "Guess 4, (2, 5, 2, 1)\n",
      "\tScore:(4, 0), number of valid values remaining: 1, time taken: 0.0001\n",
      "Success!\n"
     ]
    }
   ],
   "source": [
    "truth = (2,5,2,1)\n",
    "print(\"Codeword is: {}\\n\".format(truth))\n",
    "run_solver(best_worst_case_solver_memorized, ALL_POSSIBLE_VALUES, truth, printit=True);"
   ]
  },
  {
   "cell_type": "markdown",
   "metadata": {},
   "source": [
    "## Knuth's solution\n",
    "\n",
    "As noted in knuth's paper, situations can arise where guessing a value that could win on the next go is not always the best strategy.\n",
    "\n"
   ]
  },
  {
   "cell_type": "code",
   "execution_count": null,
   "metadata": {
    "collapsed": true
   },
   "outputs": [],
   "source": [
    "def tie_breaker_lowest(guess1, guess2):\n",
    "    \"\"\"\n",
    "    Returns True if guess1 is numberically lower than guess2,\n",
    "    false if higher or identical.\n",
    "    \"\"\"\n",
    "    for x,y in zip(guess1, guess2):\n",
    "        if x < y:\n",
    "            return True\n",
    "        elif x > y:\n",
    "            return False\n",
    "    return False\n",
    "\n",
    "def knuth_solver(possible_values, number_of_guesses, \n",
    "                 tie_breaker=tie_breaker_lowest):\n",
    "    \"\"\"\n",
    "    A solver based on Knuth's paper. \n",
    "    \"\"\"\n",
    "    best_guess = possible_values[0]\n",
    "    best_score = 10**6\n",
    "      \n",
    "    if number_of_guesses == 1:\n",
    "        possible_guess_values = STARTING_GUESSES\n",
    "    else:\n",
    "        possible_guess_values = ALL_POSSIBLE_VALUES\n",
    "    \n",
    "    possible_guess_set = set(possible_values)\n",
    "    \n",
    "    for guess in possible_guess_values:\n",
    "        remaining_lengths = []\n",
    "        for inner_score in POSSIBLE_SCORES:\n",
    "            updated_possible_values = update_possible(possible_values, guess, inner_score)\n",
    "            remaining_lengths.append(len(updated_possible_values))\n",
    "            \n",
    "        guess_score = max(remaining_lengths)\n",
    "\n",
    "        if guess_score < best_score:\n",
    "            best_score = guess_score\n",
    "            best_guess = guess\n",
    "        # in case of ties, always pick a guess in possibe_values\n",
    "        # if both guesses are in possible_values, use the function\n",
    "        # tie_breaker.\n",
    "        elif guess_score == best_score:\n",
    "            if guess in possible_guess_set and best_guess in possible_guess_set:\n",
    "                if tie_breaker(guess, best_guess):\n",
    "                    best_score = guess_score\n",
    "                    best_guess = guess\n",
    "            elif guess in possible_guess_set:\n",
    "                best_score = guess_score\n",
    "                best_guess = guess\n",
    "            \n",
    "    return best_guess\n",
    "\n",
    "knuth_solver_memorized = memorize(knuth_solver)"
   ]
  },
  {
   "cell_type": "code",
   "execution_count": null,
   "metadata": {
    "collapsed": false
   },
   "outputs": [],
   "source": [
    "%time scores = evaluate_solver(knuth_solver_memorized, \\\n",
    "                               ALL_POSSIBLE_VALUES, ALL_POSSIBLE_VALUES, printit=True);"
   ]
  },
  {
   "cell_type": "markdown",
   "metadata": {
    "collapsed": true
   },
   "source": [
    "And we recover the results from Knuth's paper - a strategy that can always find the solution in five moves or less. \n",
    "\n",
    "I noticed something interesting when writing this solver: the order in which you resolve ties makes a difference. When two possible guesses result in the same worst case length of possible solution, we choose the one that lies in possible_values. When both guesses lie in possible_values, Knuth chooses the one with the lowest numberical value. If you happen to choose the one with the highest value, you can't always solve the problem in five or fewer moves, as shown below:"
   ]
  },
  {
   "cell_type": "code",
   "execution_count": null,
   "metadata": {
    "collapsed": false
   },
   "outputs": [],
   "source": [
    "def tie_breaker_highest(guess1, guess2):\n",
    "    \"\"\"\n",
    "    Returns True if guess1 is numberically Higher than guess2,\n",
    "    False if lower or identical.\n",
    "    \"\"\"\n",
    "    for x,y in zip(guess1, guess2):\n",
    "        if x > y:\n",
    "            return True\n",
    "        elif x < y:\n",
    "            return False\n",
    "    return False    \n",
    "\n",
    "knuth_solver_memorized2 = memorize(lambda i,j : knuth_solver(i,j, tie_breaker = tie_breaker_highest))\n",
    "\n",
    "%time scores = evaluate_solver(knuth_solver_memorized2, \\\n",
    "                               ALL_POSSIBLE_VALUES, ALL_POSSIBLE_VALUES, printit=True);"
   ]
  },
  {
   "cell_type": "markdown",
   "metadata": {},
   "source": [
    "\n",
    "# The Best Possible Solver\n",
    "\n",
    "It is worth asking, some for given value of \"Best\" - how would we find the \"best possible solver\"? The previous three solvers used the idea of \"looking ahead\" one move. In order to find the best possible solver, we could look ahead even further - all the way to the end of the game. This idea involves exploring the [Game Tree](https://en.wikipedia.org/wiki/Game_tree) of the game. \n",
    "\n",
    "Naively, it involves at each guess, exploring how the state of the game changes for all 1296 guesses and all 15 clues. Even if we limit the depth of the game to 5 guesses, this would mean exploring around $10^{20}$ possible branches.  "
   ]
  },
  {
   "cell_type": "code",
   "execution_count": null,
   "metadata": {
    "collapsed": true
   },
   "outputs": [],
   "source": []
  }
 ],
 "metadata": {
  "kernelspec": {
   "display_name": "Python 3",
   "language": "python",
   "name": "python3"
  },
  "language_info": {
   "codemirror_mode": {
    "name": "ipython",
    "version": 3
   },
   "file_extension": ".py",
   "mimetype": "text/x-python",
   "name": "python",
   "nbconvert_exporter": "python",
   "pygments_lexer": "ipython3",
   "version": "3.4.3"
  }
 },
 "nbformat": 4,
 "nbformat_minor": 0
}
